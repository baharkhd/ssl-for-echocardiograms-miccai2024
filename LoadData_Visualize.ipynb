{
 "cells": [
  {
   "cell_type": "code",
   "execution_count": 1,
   "metadata": {},
   "outputs": [],
   "source": [
    "import pandas as pd\n",
    "import numpy as np\n",
    "import os\n",
    "import random"
   ]
  },
  {
   "cell_type": "code",
   "execution_count": 2,
   "metadata": {},
   "outputs": [],
   "source": [
    "import PIL.Image as Image\n",
    "from matplotlib import pyplot as plt\n",
    "%matplotlib inline"
   ]
  },
  {
   "cell_type": "code",
   "execution_count": null,
   "metadata": {},
   "outputs": [],
   "source": []
  },
  {
   "cell_type": "code",
   "execution_count": 3,
   "metadata": {},
   "outputs": [],
   "source": [
    "def LoadImage(file_path):\n",
    "    im = Image.open(file_path)\n",
    "    im = np.asarray(im)/255\n",
    "    return im"
   ]
  },
  {
   "cell_type": "code",
   "execution_count": 4,
   "metadata": {},
   "outputs": [],
   "source": [
    "def ShowGrayscaleImage(file_path, title='', ax=None):\n",
    "    \n",
    "    im = LoadImage(file_path)\n",
    "    if ax is None:\n",
    "        plt.figure()\n",
    "    plt.axis('off')\n",
    "    \n",
    "    plt.imshow(im , cmap=plt.cm.gray, vmin=0, vmax=1) #im is of float, 0-1\n",
    "\n",
    "    plt.title(title)"
   ]
  },
  {
   "cell_type": "code",
   "execution_count": null,
   "metadata": {},
   "outputs": [],
   "source": []
  },
  {
   "cell_type": "markdown",
   "metadata": {},
   "source": [
    "### Please visit our website to download the data: https://tmed.cs.tufts.edu/"
   ]
  },
  {
   "cell_type": "raw",
   "metadata": {},
   "source": [
    "This notebook assumes you have downloaded the data from our website and put them into the folder called raw_data/"
   ]
  },
  {
   "cell_type": "code",
   "execution_count": null,
   "metadata": {},
   "outputs": [],
   "source": []
  },
  {
   "cell_type": "code",
   "execution_count": 9,
   "metadata": {},
   "outputs": [],
   "source": [
    "raw_data_dir = '/cluster/tufts/hugheslab/zhuang12/MLHCData_Release/20210609/images(Released)_renamed20210720/'"
   ]
  },
  {
   "cell_type": "markdown",
   "metadata": {},
   "source": [
    "### visualize image from Labeled set"
   ]
  },
  {
   "cell_type": "code",
   "execution_count": 10,
   "metadata": {},
   "outputs": [
    {
     "name": "stdout",
     "output_type": "stream",
     "text": [
      "number of images in the labeled set: 27788\n"
     ]
    }
   ],
   "source": [
    "labeledset_path = os.path.join(raw_data_dir, 'labeled')\n",
    "ImageList_labeledset = os.listdir(labeledset_path)\n",
    "print('number of images in the labeled set: {}'.format(len(ImageList_labeledset))) #as sainty check: should be 27788"
   ]
  },
  {
   "cell_type": "code",
   "execution_count": 11,
   "metadata": {},
   "outputs": [],
   "source": [
    "#randomly choose one image from the labeled set to visualize\n",
    "im_to_visualize = random.choice(ImageList_labeledset)"
   ]
  },
  {
   "cell_type": "code",
   "execution_count": 12,
   "metadata": {
    "scrolled": true
   },
   "outputs": [
    {
     "name": "stdout",
     "output_type": "stream",
     "text": [
      "Currently visualizing 1417_131.png from labeled set\n"
     ]
    },
    {
     "data": {
      "image/png": "[encoded data removed]",
      "text/plain": [
       "<Figure size 432x288 with 1 Axes>"
      ]
     },
     "metadata": {
      "needs_background": "light"
     },
     "output_type": "display_data"
    }
   ],
   "source": [
    "print('Currently visualizing {} from labeled set'.format(im_to_visualize))\n",
    "ShowGrayscaleImage(os.path.join(labeledset_path, im_to_visualize))"
   ]
  },
  {
   "cell_type": "markdown",
   "metadata": {},
   "source": [
    "### visualize image from partially labeled set"
   ]
  },
  {
   "cell_type": "code",
   "execution_count": 13,
   "metadata": {},
   "outputs": [
    {
     "name": "stdout",
     "output_type": "stream",
     "text": [
      "number of images in the partially labeled set: 19219\n"
     ]
    }
   ],
   "source": [
    "partiallylabeledset_path = os.path.join(raw_data_dir, 'partially_labeled')\n",
    "ImageList_partiallylabeledset = os.listdir(partiallylabeledset_path)\n",
    "print('number of images in the partially labeled set: {}'.format(len(ImageList_partiallylabeledset))) #as sainty check: should be 19219\n"
   ]
  },
  {
   "cell_type": "code",
   "execution_count": 14,
   "metadata": {},
   "outputs": [],
   "source": [
    "#randomly choose one image from the labeled set to visualize\n",
    "im_to_visualize = random.choice(ImageList_partiallylabeledset)"
   ]
  },
  {
   "cell_type": "code",
   "execution_count": 15,
   "metadata": {
    "scrolled": true
   },
   "outputs": [
    {
     "name": "stdout",
     "output_type": "stream",
     "text": [
      "Currently visualizing 1471_132.png from partially labeled set\n"
     ]
    },
    {
     "data": {
      "image/png": "[encoded data removed]",
      "text/plain": [
       "<Figure size 432x288 with 1 Axes>"
      ]
     },
     "metadata": {
      "needs_background": "light"
     },
     "output_type": "display_data"
    }
   ],
   "source": [
    "print('Currently visualizing {} from partially labeled set'.format(im_to_visualize))\n",
    "ShowGrayscaleImage(os.path.join(partiallylabeledset_path, im_to_visualize))"
   ]
  },
  {
   "cell_type": "code",
   "execution_count": null,
   "metadata": {},
   "outputs": [],
   "source": []
  },
  {
   "cell_type": "markdown",
   "metadata": {},
   "source": [
    "### visualize image from unlabeled set"
   ]
  },
  {
   "cell_type": "code",
   "execution_count": 19,
   "metadata": {},
   "outputs": [
    {
     "name": "stdout",
     "output_type": "stream",
     "text": [
      "number of images in the unlabeled set: 271474\n"
     ]
    }
   ],
   "source": [
    "unlabeledset_path = os.path.join(raw_data_dir, 'unlabeled')\n",
    "ImageList_unlabeledset = os.listdir(unlabeledset_path)\n",
    "print('number of images in the unlabeled set: {}'.format(len(ImageList_unlabeledset))) #as sainty check: should be 271474\n"
   ]
  },
  {
   "cell_type": "code",
   "execution_count": 20,
   "metadata": {},
   "outputs": [],
   "source": [
    "#randomly choose one image from the labeled set to visualize\n",
    "im_to_visualize = random.choice(ImageList_unlabeledset)"
   ]
  },
  {
   "cell_type": "code",
   "execution_count": 21,
   "metadata": {
    "scrolled": true
   },
   "outputs": [
    {
     "name": "stdout",
     "output_type": "stream",
     "text": [
      "Currently visualizing 2677_120.png from unlabeled set\n"
     ]
    },
    {
     "data": {
      "image/png": "[encoded data removed]",
      "text/plain": [
       "<Figure size 432x288 with 1 Axes>"
      ]
     },
     "metadata": {
      "needs_background": "light"
     },
     "output_type": "display_data"
    }
   ],
   "source": [
    "print('Currently visualizing {} from unlabeled set'.format(im_to_visualize))\n",
    "ShowGrayscaleImage(os.path.join(unlabeledset_path, im_to_visualize))"
   ]
  },
  {
   "cell_type": "code",
   "execution_count": null,
   "metadata": {},
   "outputs": [],
   "source": []
  }
 ],
 "metadata": {
  "kernelspec": {
   "display_name": "Python 3",
   "language": "python",
   "name": "python3"
  },
  "language_info": {
   "codemirror_mode": {
    "name": "ipython",
    "version": 3
   },
   "file_extension": ".py",
   "mimetype": "text/x-python",
   "name": "python",
   "nbconvert_exporter": "python",
   "pygments_lexer": "ipython3",
   "version": "3.6.13"
  }
 },
 "nbformat": 4,
 "nbformat_minor": 4
}
