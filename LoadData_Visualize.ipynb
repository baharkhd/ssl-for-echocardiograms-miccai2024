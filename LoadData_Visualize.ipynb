{
 "cells": [
  {
   "cell_type": "code",
   "execution_count": 1,
   "metadata": {},
   "outputs": [],
   "source": [
    "import pandas as pd\n",
    "import numpy as np\n",
    "import os\n",
    "import random"
   ]
  },
  {
   "cell_type": "code",
   "execution_count": 2,
   "metadata": {},
   "outputs": [],
   "source": [
    "import PIL.Image as Image\n",
    "from matplotlib import pyplot as plt\n",
    "%matplotlib inline"
   ]
  },
  {
   "cell_type": "code",
   "execution_count": 3,
   "metadata": {},
   "outputs": [],
   "source": [
    "import warnings\n",
    "warnings.filterwarnings('ignore')"
   ]
  },
  {
   "cell_type": "code",
   "execution_count": 4,
   "metadata": {},
   "outputs": [],
   "source": [
    "def LoadImage(file_path):\n",
    "    im = Image.open(file_path)\n",
    "    im = np.asarray(im)/255\n",
    "    return im"
   ]
  },
  {
   "cell_type": "code",
   "execution_count": 5,
   "metadata": {},
   "outputs": [],
   "source": [
    "def ShowGrayscaleImage(file_path, title='', ax=None):\n",
    "    \n",
    "    im = LoadImage(file_path)\n",
    "    if ax is None:\n",
    "        plt.figure()\n",
    "    plt.axis('off')\n",
    "    \n",
    "    plt.imshow(im , cmap=plt.cm.gray, vmin=0, vmax=1) #im is of float, 0-1\n",
    "\n",
    "    plt.title(title)"
   ]
  },
  {
   "cell_type": "code",
   "execution_count": 6,
   "metadata": {},
   "outputs": [],
   "source": [
    "def find_label(query_key):\n",
    "    assert len(labels_per_image_csv.index[labels_per_image_csv['query_key']==query_key].tolist())==1\n",
    "\n",
    "    row_id = labels_per_image_csv.index[labels_per_image_csv['query_key']==query_key].tolist()[0]\n",
    "    view_label = labels_per_image_csv.iloc[row_id].view_label\n",
    "    diagnosis_label = labels_per_image_csv.iloc[row_id].diagnosis_label\n",
    "    \n",
    "    return view_label, diagnosis_label\n",
    "    "
   ]
  },
  {
   "cell_type": "markdown",
   "metadata": {},
   "source": [
    "### Please visit our website to download the data: https://tmed.cs.tufts.edu/"
   ]
  },
  {
   "cell_type": "raw",
   "metadata": {},
   "source": [
    "This notebook assumes you have downloaded the data from our website and put them into the folder called raw_data/"
   ]
  },
  {
   "cell_type": "code",
   "execution_count": null,
   "metadata": {},
   "outputs": [],
   "source": []
  },
  {
   "cell_type": "code",
   "execution_count": 7,
   "metadata": {},
   "outputs": [],
   "source": [
    "labels_per_image_csv = pd.read_csv('YOUR_PATH/labels_per_image.csv')"
   ]
  },
  {
   "cell_type": "code",
   "execution_count": 8,
   "metadata": {},
   "outputs": [],
   "source": [
    "raw_data_dir = 'YOUR_PATH/'"
   ]
  },
  {
   "cell_type": "markdown",
   "metadata": {},
   "source": [
    "### visualize image from Labeled set"
   ]
  },
  {
   "cell_type": "code",
   "execution_count": 9,
   "metadata": {},
   "outputs": [
    {
     "name": "stdout",
     "output_type": "stream",
     "text": [
      "number of images in the labeled set: 27788\n"
     ]
    }
   ],
   "source": [
    "labeledset_path = os.path.join(raw_data_dir, 'labeled')\n",
    "ImageList_labeledset = os.listdir(labeledset_path)\n",
    "print('number of images in the labeled set: {}'.format(len(ImageList_labeledset))) #as sainty check: should be 27788"
   ]
  },
  {
   "cell_type": "code",
   "execution_count": 10,
   "metadata": {},
   "outputs": [],
   "source": [
    "#randomly choose one image from the labeled set to visualize\n",
    "im_to_visualize = random.choice(ImageList_labeledset)\n",
    "view_label, diagnosis_label = find_label(im_to_visualize)"
   ]
  },
  {
   "cell_type": "code",
   "execution_count": 11,
   "metadata": {
    "scrolled": true
   },
   "outputs": [
    {
     "name": "stdout",
     "output_type": "stream",
     "text": [
      "Currently visualizing 477_38.png from labeled set\n",
      "view: Other, diagnosis: no_as\n"
     ]
    },
    {
     "data": {
      "image/png": "[encoded data removed]",
      "text/plain": [
       "<Figure size 432x288 with 1 Axes>"
      ]
     },
     "metadata": {
      "needs_background": "light"
     },
     "output_type": "display_data"
    }
   ],
   "source": [
    "print('Currently visualizing {} from labeled set'.format(im_to_visualize))\n",
    "print('view: {}, diagnosis: {}'.format(view_label, diagnosis_label))\n",
    "ShowGrayscaleImage(os.path.join(labeledset_path, im_to_visualize))"
   ]
  },
  {
   "cell_type": "markdown",
   "metadata": {},
   "source": [
    "### visualize image from partially labeled set"
   ]
  },
  {
   "cell_type": "code",
   "execution_count": 12,
   "metadata": {},
   "outputs": [
    {
     "name": "stdout",
     "output_type": "stream",
     "text": [
      "number of images in the partially labeled set: 19219\n"
     ]
    }
   ],
   "source": [
    "partiallylabeledset_path = os.path.join(raw_data_dir, 'partially_labeled')\n",
    "ImageList_partiallylabeledset = os.listdir(partiallylabeledset_path)\n",
    "print('number of images in the partially labeled set: {}'.format(len(ImageList_partiallylabeledset))) #as sainty check: should be 19219\n"
   ]
  },
  {
   "cell_type": "code",
   "execution_count": 13,
   "metadata": {},
   "outputs": [],
   "source": [
    "#randomly choose one image from the labeled set to visualize\n",
    "im_to_visualize = random.choice(ImageList_partiallylabeledset)\n",
    "view_label, diagnosis_label = find_label(im_to_visualize)"
   ]
  },
  {
   "cell_type": "code",
   "execution_count": 14,
   "metadata": {
    "scrolled": true
   },
   "outputs": [
    {
     "name": "stdout",
     "output_type": "stream",
     "text": [
      "Currently visualizing 224_65.png from partially labeled set\n",
      "view: nan, diagnosis: mild/moderate_as\n"
     ]
    },
    {
     "data": {
      "image/png": "[encoded data removed]",
      "text/plain": [
       "<Figure size 432x288 with 1 Axes>"
      ]
     },
     "metadata": {
      "needs_background": "light"
     },
     "output_type": "display_data"
    }
   ],
   "source": [
    "print('Currently visualizing {} from partially labeled set'.format(im_to_visualize))\n",
    "print('view: {}, diagnosis: {}'.format(view_label, diagnosis_label))\n",
    "ShowGrayscaleImage(os.path.join(partiallylabeledset_path, im_to_visualize))"
   ]
  },
  {
   "cell_type": "code",
   "execution_count": null,
   "metadata": {},
   "outputs": [],
   "source": []
  },
  {
   "cell_type": "markdown",
   "metadata": {},
   "source": [
    "### visualize image from unlabeled set"
   ]
  },
  {
   "cell_type": "code",
   "execution_count": 15,
   "metadata": {},
   "outputs": [
    {
     "name": "stdout",
     "output_type": "stream",
     "text": [
      "number of images in the unlabeled set: 271474\n"
     ]
    }
   ],
   "source": [
    "unlabeledset_path = os.path.join(raw_data_dir, 'unlabeled')\n",
    "ImageList_unlabeledset = os.listdir(unlabeledset_path)\n",
    "print('number of images in the unlabeled set: {}'.format(len(ImageList_unlabeledset))) #as sainty check: should be 271474\n"
   ]
  },
  {
   "cell_type": "code",
   "execution_count": 16,
   "metadata": {},
   "outputs": [],
   "source": [
    "#randomly choose one image from the labeled set to visualize\n",
    "im_to_visualize = random.choice(ImageList_unlabeledset)\n",
    "view_label, diagnosis_label = find_label(im_to_visualize)"
   ]
  },
  {
   "cell_type": "code",
   "execution_count": 17,
   "metadata": {
    "scrolled": true
   },
   "outputs": [
    {
     "name": "stdout",
     "output_type": "stream",
     "text": [
      "Currently visualizing 1473_61.png from unlabeled set\n",
      "view: nan, diagnosis: nan\n"
     ]
    },
    {
     "data": {
      "image/png": "[encoded data removed]",
      "text/plain": [
       "<Figure size 432x288 with 1 Axes>"
      ]
     },
     "metadata": {
      "needs_background": "light"
     },
     "output_type": "display_data"
    }
   ],
   "source": [
    "print('Currently visualizing {} from unlabeled set'.format(im_to_visualize))\n",
    "print('view: {}, diagnosis: {}'.format(view_label, diagnosis_label))\n",
    "ShowGrayscaleImage(os.path.join(unlabeledset_path, im_to_visualize))"
   ]
  },
  {
   "cell_type": "code",
   "execution_count": null,
   "metadata": {},
   "outputs": [],
   "source": []
  }
 ],
 "metadata": {
  "kernelspec": {
   "display_name": "Python 3",
   "language": "python",
   "name": "python3"
  },
  "language_info": {
   "codemirror_mode": {
    "name": "ipython",
    "version": 3
   },
   "file_extension": ".py",
   "mimetype": "text/x-python",
   "name": "python",
   "nbconvert_exporter": "python",
   "pygments_lexer": "ipython3",
   "version": "3.6.13"
  }
 },
 "nbformat": 4,
 "nbformat_minor": 4
}
