{
 "cells": [
  {
   "cell_type": "code",
   "execution_count": 1,
   "metadata": {},
   "outputs": [],
   "source": [
    "# import tensorflow.compat.v1 as tf\n",
    "import tensorflow as tf\n",
    "import numpy as np\n",
    "import os\n",
    "import PIL.Image\n",
    "from matplotlib import pylab as P\n",
    "import functools\n",
    "import sys\n",
    "sys.path.insert(0, './src/image_level/libml')\n",
    "import utils\n",
    "\n",
    "%matplotlib inline"
   ]
  },
  {
   "cell_type": "code",
   "execution_count": 2,
   "metadata": {},
   "outputs": [
    {
     "data": {
      "text/plain": [
       "'1.15.0'"
      ]
     },
     "execution_count": 2,
     "metadata": {},
     "output_type": "execute_result"
    }
   ],
   "source": [
    "tf.__version__"
   ]
  },
  {
   "cell_type": "code",
   "execution_count": 3,
   "metadata": {},
   "outputs": [],
   "source": [
    "from tensorflow.python.util import deprecation\n",
    "deprecation._PRINT_DEPRECATION_WARNINGS = False"
   ]
  },
  {
   "cell_type": "code",
   "execution_count": 4,
   "metadata": {},
   "outputs": [],
   "source": [
    "ViewLabel_to_Name_mapping = {0:'PLAX', 1:'PSAX', 2:'Other'}\n",
    "DiagnosisLabel_to_Name_mapping = {0:'No AS', 1:'Mild/Moderate AS', 2:'Severe AS'}"
   ]
  },
  {
   "cell_type": "code",
   "execution_count": null,
   "metadata": {},
   "outputs": [],
   "source": []
  },
  {
   "cell_type": "markdown",
   "metadata": {},
   "source": [
    "## Utility methods"
   ]
  },
  {
   "cell_type": "code",
   "execution_count": 5,
   "metadata": {},
   "outputs": [],
   "source": [
    "def normalize_to_be_the_same_value_seen_by_model(image):\n",
    "    \n",
    "    image = image[:,:,np.newaxis] * 2.0 /255 - 1.0\n",
    "    \n",
    "    return image"
   ]
  },
  {
   "cell_type": "code",
   "execution_count": 6,
   "metadata": {},
   "outputs": [],
   "source": [
    "# Boilerplate methods\n",
    "\n",
    "def ShowGrayscaleImage(im, title='', ax=None):\n",
    "    if ax is None:\n",
    "        P.figure()\n",
    "    P.axis('off')\n",
    "    \n",
    "    P.imshow(im , cmap=P.cm.gray, vmin=0, vmax=1) #im is of float, 0-1\n",
    "\n",
    "    P.title(title)\n",
    "\n",
    "    \n",
    "def LoadImage(file_path):\n",
    "    im = PIL.Image.open(file_path)\n",
    "    im = np.asarray(im)\n",
    "    return im\n",
    "    "
   ]
  },
  {
   "cell_type": "code",
   "execution_count": null,
   "metadata": {},
   "outputs": [],
   "source": []
  },
  {
   "cell_type": "markdown",
   "metadata": {},
   "source": [
    "## Construct model"
   ]
  },
  {
   "cell_type": "code",
   "execution_count": 7,
   "metadata": {},
   "outputs": [],
   "source": [
    "dataset_mean = 0\n",
    "dataset_std = 1\n",
    "nclass = 3"
   ]
  },
  {
   "cell_type": "code",
   "execution_count": 8,
   "metadata": {},
   "outputs": [],
   "source": [
    "hwc = [64, 64, 1]\n",
    "scales = 4\n",
    "filters = 32\n",
    "repeat = 4\n",
    "training = False "
   ]
  },
  {
   "cell_type": "code",
   "execution_count": 9,
   "metadata": {},
   "outputs": [],
   "source": [
    "def classifier(x, scales, filters, repeat, training, getter=None, **kwargs):\n",
    "    del kwargs\n",
    "    leaky_relu = functools.partial(tf.nn.leaky_relu, alpha=0.1)\n",
    "    bn_args = dict(training=training, momentum=0.999)\n",
    "\n",
    "    def conv_args(k, f):\n",
    "        return dict(padding='same',\n",
    "                    kernel_initializer=tf.random_normal_initializer(stddev=tf.rsqrt(0.5 * k * k * f)))\n",
    "\n",
    "    def residual(x0, filters, stride=1, activate_before_residual=False):\n",
    "        x = leaky_relu(tf.layers.batch_normalization(x0, **bn_args))\n",
    "        if activate_before_residual:\n",
    "            x0 = x\n",
    "\n",
    "        x = tf.layers.conv2d(x, filters, 3, strides=stride, **conv_args(3, filters))\n",
    "        x = leaky_relu(tf.layers.batch_normalization(x, **bn_args))\n",
    "        x = tf.layers.conv2d(x, filters, 3, **conv_args(3, filters))\n",
    "\n",
    "        if x0.get_shape()[3] != filters:\n",
    "            x0 = tf.layers.conv2d(x0, filters, 1, strides=stride, **conv_args(1, filters))\n",
    "\n",
    "        return x0 + x\n",
    "\n",
    "    with tf.variable_scope('classify', reuse=tf.AUTO_REUSE, custom_getter=getter):\n",
    "        y = tf.layers.conv2d((x - dataset_mean) / dataset_std, 16, 3, **conv_args(3, 16))\n",
    "        for scale in range(scales):\n",
    "            y = residual(y, filters << scale, stride=2 if scale else 1, activate_before_residual=scale == 0)\n",
    "            for i in range(repeat - 1):\n",
    "                y = residual(y, filters << scale)\n",
    "\n",
    "        y = leaky_relu(tf.layers.batch_normalization(y, **bn_args))\n",
    "        y = tf.reduce_mean(y, [1, 2])\n",
    "        logits = tf.layers.dense(y, nclass, kernel_initializer=tf.glorot_normal_initializer())\n",
    "    return logits"
   ]
  },
  {
   "cell_type": "code",
   "execution_count": null,
   "metadata": {},
   "outputs": [],
   "source": []
  },
  {
   "cell_type": "markdown",
   "metadata": {},
   "source": [
    "### Create the graph and load Diagnosis pretrained weights"
   ]
  },
  {
   "cell_type": "code",
   "execution_count": 10,
   "metadata": {},
   "outputs": [
    {
     "name": "stdout",
     "output_type": "stream",
     "text": [
      "WARNING:tensorflow:From ./src/image_level/libml/utils.py:186: The name tf.get_collection is deprecated. Please use tf.compat.v1.get_collection instead.\n",
      "\n",
      "WARNING:tensorflow:From ./src/image_level/libml/utils.py:186: The name tf.GraphKeys is deprecated. Please use tf.compat.v1.GraphKeys instead.\n",
      "\n",
      "INFO:tensorflow:Restoring parameters from /cluster/tufts/hugheslab/zhuang12/MLHCCode_Release/models/E4VD-156-52/fold0_diagnosis/best_validation_balanced_accuracy.ckpt\n"
     ]
    }
   ],
   "source": [
    "model_path = '/cluster/tufts/hugheslab/zhuang12/MLHCCode_Release/models/E4VD-156-52/fold0_diagnosis'\n",
    "\n",
    "graph1 = tf.get_default_graph()\n",
    "sess1 = tf.Session(graph=graph1)\n",
    "with graph1.as_default():\n",
    "    \n",
    "    x_in_diagnosis = tf.placeholder(tf.float32, [None] + hwc, 'x') #labeled images, after augmentation operation in data_pair.py\n",
    "    \n",
    "    logits_diagnosis = classifier(x_in_diagnosis, scales, filters, repeat, training=True, getter = None)\n",
    "    \n",
    "    ema = tf.train.ExponentialMovingAverage(decay=0.9)\n",
    "    ema_op = ema.apply(utils.model_vars())\n",
    "    ema_getter = functools.partial(utils.getter_ema, ema)\n",
    "\n",
    "    classify_op_diagnosis = tf.nn.softmax(classifier(x_in_diagnosis, scales, filters, repeat, getter=ema_getter, training=False))\n",
    "    \n",
    "    saver = tf.train.Saver()\n",
    "    saver.restore(sess1, os.path.join(model_path,'best_validation_balanced_accuracy.ckpt'))\n",
    "    "
   ]
  },
  {
   "cell_type": "code",
   "execution_count": null,
   "metadata": {},
   "outputs": [],
   "source": []
  },
  {
   "cell_type": "markdown",
   "metadata": {},
   "source": [
    "### Create the graph and load View pretrained weights"
   ]
  },
  {
   "cell_type": "code",
   "execution_count": 11,
   "metadata": {},
   "outputs": [
    {
     "name": "stdout",
     "output_type": "stream",
     "text": [
      "INFO:tensorflow:Restoring parameters from /cluster/tufts/hugheslab/zhuang12/MLHCCode_Release/models/E4VD-156-52/fold0_view/best_validation_balanced_accuracy.ckpt\n"
     ]
    }
   ],
   "source": [
    "model_path = '/cluster/tufts/hugheslab/zhuang12/MLHCCode_Release/models/E4VD-156-52/fold0_view'\n",
    "\n",
    "# tf.reset_default_graph()\n",
    "graph2 = tf.Graph()\n",
    "sess2 = tf.Session(graph=graph2)\n",
    "with graph2.as_default():\n",
    "    x_in_view = tf.placeholder(tf.float32, [None] + hwc, 'x') #labeled images, after augmentation operation in data_pair.py\n",
    "    logits_view = classifier(x_in_view, scales, filters, repeat, training, getter=None)\n",
    "\n",
    "    classify_op_view = tf.nn.softmax(classifier(x_in_view, scales, filters, repeat, getter=ema_getter, training=False))\n",
    "    \n",
    "    saver = tf.train.Saver()\n",
    "    saver.restore(sess2, os.path.join(model_path,'best_validation_balanced_accuracy.ckpt'))\n"
   ]
  },
  {
   "cell_type": "code",
   "execution_count": null,
   "metadata": {},
   "outputs": [],
   "source": []
  },
  {
   "cell_type": "markdown",
   "metadata": {},
   "source": [
    "### Load an image and infer"
   ]
  },
  {
   "cell_type": "code",
   "execution_count": 12,
   "metadata": {
    "scrolled": true
   },
   "outputs": [
    {
     "name": "stdout",
     "output_type": "stream",
     "text": [
      "Predicted view label: PLAX\n",
      "Predicted diagnosis label: Mild/Moderate AS\n"
     ]
    },
    {
     "data": {
      "image/png": "[encoded data removed]",
      "text/plain": [
       "<Figure size 432x288 with 1 Axes>"
      ]
     },
     "metadata": {
      "needs_background": "light"
     },
     "output_type": "display_data"
    }
   ],
   "source": [
    "#load the image\n",
    "target_image = LoadImage('./sample/sample.png') #We know the true label of this image is PLAX and Mild/Moderate AS (the third image in fold0 test set)\n",
    "#show the image\n",
    "ShowGrayscaleImage(target_image/255)\n",
    "\n",
    "#Make predictions\n",
    "this_image_input = normalize_to_be_the_same_value_seen_by_model(target_image)\n",
    "diagnosis_predictions= sess1.run(classify_op_diagnosis, feed_dict={x_in_diagnosis:[this_image_input]})[0]\n",
    "diagnosis_predicted_label = DiagnosisLabel_to_Name_mapping[np.argmax(diagnosis_predictions)]\n",
    "view_predictions = sess2.run(classify_op_view, feed_dict={x_in_view:[this_image_input]})[0]\n",
    "view_predicted_label = ViewLabel_to_Name_mapping[np.argmax(view_predictions)]\n",
    "\n",
    "print('Predicted view label: {}'.format(view_predicted_label))\n",
    "print('Predicted diagnosis label: {}'.format(diagnosis_predicted_label))"
   ]
  },
  {
   "cell_type": "code",
   "execution_count": null,
   "metadata": {},
   "outputs": [],
   "source": []
  },
  {
   "cell_type": "code",
   "execution_count": null,
   "metadata": {},
   "outputs": [],
   "source": []
  }
 ],
 "metadata": {
  "kernelspec": {
   "display_name": "Python 3",
   "language": "python",
   "name": "python3"
  },
  "language_info": {
   "codemirror_mode": {
    "name": "ipython",
    "version": 3
   },
   "file_extension": ".py",
   "mimetype": "text/x-python",
   "name": "python",
   "nbconvert_exporter": "python",
   "pygments_lexer": "ipython3",
   "version": "3.7.4"
  }
 },
 "nbformat": 4,
 "nbformat_minor": 2
}
